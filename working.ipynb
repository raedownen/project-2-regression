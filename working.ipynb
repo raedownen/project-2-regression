{
 "cells": [
  {
   "cell_type": "code",
   "execution_count": 1,
   "id": "43e561f5",
   "metadata": {},
   "outputs": [],
   "source": [
    "from sklearn.model_selection import train_test_split\n",
    "import pandas as pd\n",
    "import numpy as np\n",
    "import os\n",
    "from pathlib import Path\n",
    "from env import host, user, password\n",
    "import seaborn as sns\n",
    "\n",
    "def get_db_url(db, user=user, host=host, password=password):\n",
    "    '''\n",
    "    This function uses my info from my env file \n",
    "    to create a connection url to access the codeup db.\n",
    "    '''\n",
    "    return f'mysql+pymysql://{user}:{password}@{host}/{db}'\n",
    "\n",
    "################################################### Acquire #########################################################\n",
    "# use this function the 1st time to get initial dataset.\n",
    "def new_zillow_data():\n",
    "    '''This function reads in zillow data from Codeup database.'''\n",
    "    sql_query = '''    \n",
    "    SELECT properties_2017.fips,\n",
    "        properties_2017.bedroomcnt,\n",
    "        properties_2017.bathroomcnt,\n",
    "        properties_2017.calculatedfinishedsquarefeet,\n",
    "        properties_2017.taxvaluedollarcnt\n",
    "        FROM predictions_2017\n",
    "        JOIN properties_2017\n",
    "        ON predictions_2017.parcelid = properties_2017.parcelid\n",
    "        JOIN propertylandusetype\n",
    "        ON properties_2017.propertylandusetypeid = propertylandusetype.propertylandusetypeid\n",
    "        WHERE propertylandusetype.propertylandusetypeid = '261'\n",
    "        AND predictions_2017.transactiondate between '2017-01-01' AND '2017-12-31';'''\n",
    "\n",
    "    # Read in DataFrame from Codeup db.\n",
    "    df = pd.read_sql(sql_query, get_db_url('zillow'))\n",
    "    return df\n",
    "\n"
   ]
  },
  {
   "cell_type": "code",
   "execution_count": 2,
   "id": "910e0900",
   "metadata": {},
   "outputs": [],
   "source": [
    "df=new_zillow_data()"
   ]
  },
  {
   "cell_type": "code",
   "execution_count": 3,
   "id": "d2eb4690",
   "metadata": {},
   "outputs": [
    {
     "data": {
      "text/html": [
       "<div>\n",
       "<style scoped>\n",
       "    .dataframe tbody tr th:only-of-type {\n",
       "        vertical-align: middle;\n",
       "    }\n",
       "\n",
       "    .dataframe tbody tr th {\n",
       "        vertical-align: top;\n",
       "    }\n",
       "\n",
       "    .dataframe thead th {\n",
       "        text-align: right;\n",
       "    }\n",
       "</style>\n",
       "<table border=\"1\" class=\"dataframe\">\n",
       "  <thead>\n",
       "    <tr style=\"text-align: right;\">\n",
       "      <th></th>\n",
       "      <th>fips</th>\n",
       "      <th>bedroomcnt</th>\n",
       "      <th>bathroomcnt</th>\n",
       "      <th>calculatedfinishedsquarefeet</th>\n",
       "      <th>taxvaluedollarcnt</th>\n",
       "    </tr>\n",
       "  </thead>\n",
       "  <tbody>\n",
       "    <tr>\n",
       "      <th>0</th>\n",
       "      <td>6059.0</td>\n",
       "      <td>4.0</td>\n",
       "      <td>3.5</td>\n",
       "      <td>3100.0</td>\n",
       "      <td>1023282.0</td>\n",
       "    </tr>\n",
       "    <tr>\n",
       "      <th>1</th>\n",
       "      <td>6111.0</td>\n",
       "      <td>2.0</td>\n",
       "      <td>1.0</td>\n",
       "      <td>1465.0</td>\n",
       "      <td>464000.0</td>\n",
       "    </tr>\n",
       "    <tr>\n",
       "      <th>2</th>\n",
       "      <td>6059.0</td>\n",
       "      <td>3.0</td>\n",
       "      <td>2.0</td>\n",
       "      <td>1243.0</td>\n",
       "      <td>564778.0</td>\n",
       "    </tr>\n",
       "    <tr>\n",
       "      <th>3</th>\n",
       "      <td>6037.0</td>\n",
       "      <td>4.0</td>\n",
       "      <td>3.0</td>\n",
       "      <td>2376.0</td>\n",
       "      <td>145143.0</td>\n",
       "    </tr>\n",
       "    <tr>\n",
       "      <th>4</th>\n",
       "      <td>6037.0</td>\n",
       "      <td>4.0</td>\n",
       "      <td>3.0</td>\n",
       "      <td>2962.0</td>\n",
       "      <td>773303.0</td>\n",
       "    </tr>\n",
       "  </tbody>\n",
       "</table>\n",
       "</div>"
      ],
      "text/plain": [
       "     fips  bedroomcnt  bathroomcnt  calculatedfinishedsquarefeet  \\\n",
       "0  6059.0         4.0          3.5                        3100.0   \n",
       "1  6111.0         2.0          1.0                        1465.0   \n",
       "2  6059.0         3.0          2.0                        1243.0   \n",
       "3  6037.0         4.0          3.0                        2376.0   \n",
       "4  6037.0         4.0          3.0                        2962.0   \n",
       "\n",
       "   taxvaluedollarcnt  \n",
       "0          1023282.0  \n",
       "1           464000.0  \n",
       "2           564778.0  \n",
       "3           145143.0  \n",
       "4           773303.0  "
      ]
     },
     "execution_count": 3,
     "metadata": {},
     "output_type": "execute_result"
    }
   ],
   "source": [
    "df.head()"
   ]
  },
  {
   "cell_type": "code",
   "execution_count": 4,
   "id": "c8764a7c",
   "metadata": {},
   "outputs": [],
   "source": [
    "#Replace a whitespace sequence or empty with a NaN value and reassign this manipulation to df.\n",
    "df = df.replace(r'^\\s*$', np.nan, regex=True)\n",
    "    \n",
    "  "
   ]
  },
  {
   "cell_type": "code",
   "execution_count": 5,
   "id": "aab02193",
   "metadata": {},
   "outputs": [],
   "source": [
    "#Drop all rows with any Null values, assign to df, and verify with df.info().\n",
    "df = df.dropna()\n",
    "    \n",
    "    \n"
   ]
  },
  {
   "cell_type": "code",
   "execution_count": 6,
   "id": "3bc35a42",
   "metadata": {},
   "outputs": [],
   "source": [
    "#rename the columns so they are human readable\n",
    "df=df.rename(columns={\"bedroomcnt\":\"bedrooms\",\"bathroomcnt\":\"bathrooms\",\n",
    "                          \"calculatedfinishedsquarefeet\":\"squarefeet\", \n",
    "                          \"taxvaluedollarcnt\": \"home_value\",})"
   ]
  },
  {
   "cell_type": "code",
   "execution_count": 7,
   "id": "a3df4860",
   "metadata": {},
   "outputs": [
    {
     "data": {
      "text/html": [
       "<div>\n",
       "<style scoped>\n",
       "    .dataframe tbody tr th:only-of-type {\n",
       "        vertical-align: middle;\n",
       "    }\n",
       "\n",
       "    .dataframe tbody tr th {\n",
       "        vertical-align: top;\n",
       "    }\n",
       "\n",
       "    .dataframe thead th {\n",
       "        text-align: right;\n",
       "    }\n",
       "</style>\n",
       "<table border=\"1\" class=\"dataframe\">\n",
       "  <thead>\n",
       "    <tr style=\"text-align: right;\">\n",
       "      <th></th>\n",
       "      <th>fips</th>\n",
       "      <th>bedrooms</th>\n",
       "      <th>bathrooms</th>\n",
       "      <th>squarefeet</th>\n",
       "      <th>home_value</th>\n",
       "    </tr>\n",
       "  </thead>\n",
       "  <tbody>\n",
       "    <tr>\n",
       "      <th>0</th>\n",
       "      <td>6059.0</td>\n",
       "      <td>4.0</td>\n",
       "      <td>3.5</td>\n",
       "      <td>3100.0</td>\n",
       "      <td>1023282.0</td>\n",
       "    </tr>\n",
       "    <tr>\n",
       "      <th>1</th>\n",
       "      <td>6111.0</td>\n",
       "      <td>2.0</td>\n",
       "      <td>1.0</td>\n",
       "      <td>1465.0</td>\n",
       "      <td>464000.0</td>\n",
       "    </tr>\n",
       "    <tr>\n",
       "      <th>2</th>\n",
       "      <td>6059.0</td>\n",
       "      <td>3.0</td>\n",
       "      <td>2.0</td>\n",
       "      <td>1243.0</td>\n",
       "      <td>564778.0</td>\n",
       "    </tr>\n",
       "    <tr>\n",
       "      <th>3</th>\n",
       "      <td>6037.0</td>\n",
       "      <td>4.0</td>\n",
       "      <td>3.0</td>\n",
       "      <td>2376.0</td>\n",
       "      <td>145143.0</td>\n",
       "    </tr>\n",
       "    <tr>\n",
       "      <th>4</th>\n",
       "      <td>6037.0</td>\n",
       "      <td>4.0</td>\n",
       "      <td>3.0</td>\n",
       "      <td>2962.0</td>\n",
       "      <td>773303.0</td>\n",
       "    </tr>\n",
       "  </tbody>\n",
       "</table>\n",
       "</div>"
      ],
      "text/plain": [
       "     fips  bedrooms  bathrooms  squarefeet  home_value\n",
       "0  6059.0       4.0        3.5      3100.0   1023282.0\n",
       "1  6111.0       2.0        1.0      1465.0    464000.0\n",
       "2  6059.0       3.0        2.0      1243.0    564778.0\n",
       "3  6037.0       4.0        3.0      2376.0    145143.0\n",
       "4  6037.0       4.0        3.0      2962.0    773303.0"
      ]
     },
     "execution_count": 7,
     "metadata": {},
     "output_type": "execute_result"
    }
   ],
   "source": [
    "df.head()"
   ]
  },
  {
   "cell_type": "code",
   "execution_count": 13,
   "id": "9c20dd24",
   "metadata": {},
   "outputs": [
    {
     "data": {
      "text/html": [
       "<div>\n",
       "<style scoped>\n",
       "    .dataframe tbody tr th:only-of-type {\n",
       "        vertical-align: middle;\n",
       "    }\n",
       "\n",
       "    .dataframe tbody tr th {\n",
       "        vertical-align: top;\n",
       "    }\n",
       "\n",
       "    .dataframe thead th {\n",
       "        text-align: right;\n",
       "    }\n",
       "</style>\n",
       "<table border=\"1\" class=\"dataframe\">\n",
       "  <thead>\n",
       "    <tr style=\"text-align: right;\">\n",
       "      <th></th>\n",
       "      <th>fips</th>\n",
       "      <th>bedrooms</th>\n",
       "      <th>bathrooms</th>\n",
       "      <th>squarefeet</th>\n",
       "      <th>home_value</th>\n",
       "    </tr>\n",
       "  </thead>\n",
       "  <tbody>\n",
       "    <tr>\n",
       "      <th>count</th>\n",
       "      <td>52358.000000</td>\n",
       "      <td>52358.000000</td>\n",
       "      <td>52358.000000</td>\n",
       "      <td>52358.000000</td>\n",
       "      <td>5.235800e+04</td>\n",
       "    </tr>\n",
       "    <tr>\n",
       "      <th>mean</th>\n",
       "      <td>6049.111158</td>\n",
       "      <td>3.305531</td>\n",
       "      <td>2.302781</td>\n",
       "      <td>1922.904618</td>\n",
       "      <td>5.280258e+05</td>\n",
       "    </tr>\n",
       "    <tr>\n",
       "      <th>std</th>\n",
       "      <td>21.019623</td>\n",
       "      <td>0.941429</td>\n",
       "      <td>1.019773</td>\n",
       "      <td>1004.370420</td>\n",
       "      <td>7.483295e+05</td>\n",
       "    </tr>\n",
       "    <tr>\n",
       "      <th>min</th>\n",
       "      <td>6037.000000</td>\n",
       "      <td>0.000000</td>\n",
       "      <td>0.000000</td>\n",
       "      <td>128.000000</td>\n",
       "      <td>1.000000e+03</td>\n",
       "    </tr>\n",
       "    <tr>\n",
       "      <th>25%</th>\n",
       "      <td>6037.000000</td>\n",
       "      <td>3.000000</td>\n",
       "      <td>2.000000</td>\n",
       "      <td>1268.000000</td>\n",
       "      <td>1.936442e+05</td>\n",
       "    </tr>\n",
       "    <tr>\n",
       "      <th>50%</th>\n",
       "      <td>6037.000000</td>\n",
       "      <td>3.000000</td>\n",
       "      <td>2.000000</td>\n",
       "      <td>1659.000000</td>\n",
       "      <td>3.733765e+05</td>\n",
       "    </tr>\n",
       "    <tr>\n",
       "      <th>75%</th>\n",
       "      <td>6059.000000</td>\n",
       "      <td>4.000000</td>\n",
       "      <td>3.000000</td>\n",
       "      <td>2306.000000</td>\n",
       "      <td>6.185332e+05</td>\n",
       "    </tr>\n",
       "    <tr>\n",
       "      <th>max</th>\n",
       "      <td>6111.000000</td>\n",
       "      <td>14.000000</td>\n",
       "      <td>18.000000</td>\n",
       "      <td>21929.000000</td>\n",
       "      <td>4.906124e+07</td>\n",
       "    </tr>\n",
       "  </tbody>\n",
       "</table>\n",
       "</div>"
      ],
      "text/plain": [
       "               fips      bedrooms     bathrooms    squarefeet    home_value\n",
       "count  52358.000000  52358.000000  52358.000000  52358.000000  5.235800e+04\n",
       "mean    6049.111158      3.305531      2.302781   1922.904618  5.280258e+05\n",
       "std       21.019623      0.941429      1.019773   1004.370420  7.483295e+05\n",
       "min     6037.000000      0.000000      0.000000    128.000000  1.000000e+03\n",
       "25%     6037.000000      3.000000      2.000000   1268.000000  1.936442e+05\n",
       "50%     6037.000000      3.000000      2.000000   1659.000000  3.733765e+05\n",
       "75%     6059.000000      4.000000      3.000000   2306.000000  6.185332e+05\n",
       "max     6111.000000     14.000000     18.000000  21929.000000  4.906124e+07"
      ]
     },
     "execution_count": 13,
     "metadata": {},
     "output_type": "execute_result"
    }
   ],
   "source": [
    "df.describe()"
   ]
  },
  {
   "cell_type": "code",
   "execution_count": 14,
   "id": "8a3b5544",
   "metadata": {},
   "outputs": [
    {
     "data": {
      "text/plain": [
       "0        1023282.0\n",
       "1         464000.0\n",
       "2         564778.0\n",
       "3         145143.0\n",
       "4         773303.0\n",
       "           ...    \n",
       "52436     346534.0\n",
       "52437     354621.0\n",
       "52438      67205.0\n",
       "52439      49546.0\n",
       "52440     522000.0\n",
       "Name: home_value, Length: 52358, dtype: float64"
      ]
     },
     "execution_count": 14,
     "metadata": {},
     "output_type": "execute_result"
    }
   ],
   "source": [
    "df.home_value.round()"
   ]
  },
  {
   "cell_type": "code",
   "execution_count": 18,
   "id": "b7c7a3c9",
   "metadata": {},
   "outputs": [
    {
     "data": {
      "text/plain": [
       "count       52358.0\n",
       "mean       528026.0\n",
       "std        748329.0\n",
       "min          1000.0\n",
       "25%        193644.0\n",
       "50%        373376.0\n",
       "75%        618533.0\n",
       "max      49061236.0\n",
       "Name: home_value, dtype: float64"
      ]
     },
     "execution_count": 18,
     "metadata": {},
     "output_type": "execute_result"
    }
   ],
   "source": [
    "df.home_value.describe().round()"
   ]
  },
  {
   "cell_type": "code",
   "execution_count": 9,
   "id": "f5baa58e",
   "metadata": {},
   "outputs": [
    {
     "data": {
      "text/plain": [
       "<AxesSubplot:xlabel='bedrooms'>"
      ]
     },
     "execution_count": 9,
     "metadata": {},
     "output_type": "execute_result"
    },
    {
     "data": {
      "image/png": "[encoded data removed]",
      "text/plain": [
       "<Figure size 432x288 with 1 Axes>"
      ]
     },
     "metadata": {
      "needs_background": "light"
     },
     "output_type": "display_data"
    }
   ],
   "source": [
    "sns.boxplot(x=df[\"bedrooms\"])"
   ]
  },
  {
   "cell_type": "code",
   "execution_count": 10,
   "id": "37cadc7d",
   "metadata": {},
   "outputs": [
    {
     "data": {
      "text/plain": [
       "<AxesSubplot:xlabel='bathrooms'>"
      ]
     },
     "execution_count": 10,
     "metadata": {},
     "output_type": "execute_result"
    },
    {
     "data": {
      "image/png": "[encoded data removed]",
      "text/plain": [
       "<Figure size 432x288 with 1 Axes>"
      ]
     },
     "metadata": {
      "needs_background": "light"
     },
     "output_type": "display_data"
    }
   ],
   "source": [
    "sns.boxplot(x=df[\"bathrooms\"])"
   ]
  },
  {
   "cell_type": "code",
   "execution_count": 11,
   "id": "ac5c3ee6",
   "metadata": {},
   "outputs": [
    {
     "data": {
      "text/plain": [
       "<AxesSubplot:xlabel='squarefeet'>"
      ]
     },
     "execution_count": 11,
     "metadata": {},
     "output_type": "execute_result"
    },
    {
     "data": {
      "image/png": "[encoded data removed]",
      "text/plain": [
       "<Figure size 432x288 with 1 Axes>"
      ]
     },
     "metadata": {
      "needs_background": "light"
     },
     "output_type": "display_data"
    }
   ],
   "source": [
    "sns.boxplot(x=df[\"squarefeet\"])"
   ]
  },
  {
   "cell_type": "code",
   "execution_count": 20,
   "id": "afc4b3f7",
   "metadata": {},
   "outputs": [
    {
     "data": {
      "text/plain": [
       "<AxesSubplot:xlabel='home_value'>"
      ]
     },
     "execution_count": 20,
     "metadata": {},
     "output_type": "execute_result"
    },
    {
     "data": {
      "image/png": "[encoded data removed]",
      "text/plain": [
       "<Figure size 432x288 with 1 Axes>"
      ]
     },
     "metadata": {
      "needs_background": "light"
     },
     "output_type": "display_data"
    }
   ],
   "source": [
    "sns.boxplot(x=df[\"home_value\"].round())"
   ]
  },
  {
   "cell_type": "code",
   "execution_count": null,
   "id": "e4af5596",
   "metadata": {},
   "outputs": [],
   "source": [
    "################################################### IMPORT #########################################################\n",
    "# importing of all needed libraries and modules.  \n",
    "import wrangle as w\n",
    "import pandas as pd\n",
    "import numpy as np\n",
    "import seaborn as sns\n",
    "import matplotlib.pyplot as plt\n",
    "%matplotlib inline\n",
    "from scipy import stats\n",
    "from scipy.stats import pearsonr, spearmanr\n",
    "from sklearn.feature_selection import SelectKBest, RFE, f_regression, SequentialFeatureSelector\n",
    "from sklearn.linear_model import LinearRegression\n",
    "from sklearn.impute import SimpleImputer\n",
    "import sklearn.preprocessing\n",
    "from sklearn.model_selection import train_test_split\n",
    "from sklearn.preprocessing import MinMaxScaler, StandardScaler, RobustScaler, QuantileTransformer\n",
    "from sklearn.neighbors import KNeighborsClassifier\n",
    "from sklearn.metrics import mean_squared_error\n",
    "from sklearn.metrics import mean_squared_error\n",
    "from sklearn.linear_model import LinearRegression, LassoLars, TweedieRegressor\n",
    "from sklearn.preprocessing import PolynomialFeatures\n",
    "import os\n",
    "from pathlib import Path\n",
    "import warnings\n",
    "warnings.filterwarnings(\"ignore\")"
   ]
  },
  {
   "cell_type": "code",
   "execution_count": null,
   "id": "3325dd54",
   "metadata": {},
   "outputs": [],
   "source": [
    "train, validate, test=w.wrangle_zillow()"
   ]
  },
  {
   "cell_type": "code",
   "execution_count": null,
   "id": "302b94b0",
   "metadata": {},
   "outputs": [],
   "source": [
    "train.head()"
   ]
  },
  {
   "cell_type": "code",
   "execution_count": null,
   "id": "c0629b4e",
   "metadata": {},
   "outputs": [],
   "source": [
    "train"
   ]
  },
  {
   "cell_type": "code",
   "execution_count": null,
   "id": "fccb69f9",
   "metadata": {},
   "outputs": [],
   "source": []
  }
 ],
 "metadata": {
  "kernelspec": {
   "display_name": "Python 3 (ipykernel)",
   "language": "python",
   "name": "python3"
  },
  "language_info": {
   "codemirror_mode": {
    "name": "ipython",
    "version": 3
   },
   "file_extension": ".py",
   "mimetype": "text/x-python",
   "name": "python",
   "nbconvert_exporter": "python",
   "pygments_lexer": "ipython3",
   "version": "3.9.12"
  }
 },
 "nbformat": 4,
 "nbformat_minor": 5
}
